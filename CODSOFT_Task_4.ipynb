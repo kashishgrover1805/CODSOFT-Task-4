{
  "nbformat": 4,
  "nbformat_minor": 0,
  "metadata": {
    "colab": {
      "provenance": []
    },
    "kernelspec": {
      "name": "python3",
      "display_name": "Python 3"
    },
    "language_info": {
      "name": "python"
    }
  },
  "cells": [
    {
      "cell_type": "code",
      "source": [
        "import numpy as np\n",
        "import pandas as pd\n",
        "from sklearn.metrics.pairwise import cosine_similarity\n",
        "\n",
        "# Sample data: user ratings for movies\n",
        "data = {\n",
        "    'User': ['User1', 'User1', 'User1', 'User2', 'User2', 'User3', 'User3', 'User3', 'User4', 'User4'],\n",
        "    'Movie': ['Movie1', 'Movie2', 'Movie3', 'Movie1', 'Movie4', 'Movie2', 'Movie3', 'Movie4', 'Movie1', 'Movie3'],\n",
        "    'Rating': [5, 3, 4, 4, 2, 5, 4, 1, 4, 5]\n",
        "}\n",
        "\n",
        "# Create DataFrame\n",
        "df = pd.DataFrame(data)\n",
        "\n",
        "def add_user_ratings(user, ratings):\n",
        "    \"\"\"\n",
        "    Add the new user's ratings to the DataFrame.\n",
        "    \"\"\"\n",
        "    global df\n",
        "    new_data = {'User': [user]*len(ratings), 'Movie': list(ratings.keys()), 'Rating': list(ratings.values())}\n",
        "    new_df = pd.DataFrame(new_data)\n",
        "    df = pd.concat([df, new_df], ignore_index=True)\n",
        "\n",
        "def recommend_movies(user, num_recommendations=2):\n",
        "    # Pivot table to create user-item matrix\n",
        "    user_movie_matrix = df.pivot_table(index='User', columns='Movie', values='Rating').fillna(0)\n",
        "\n",
        "    # Calculate cosine similarity between users\n",
        "    user_similarity = cosine_similarity(user_movie_matrix)\n",
        "\n",
        "    # Create a DataFrame for user similarity\n",
        "    user_similarity_df = pd.DataFrame(user_similarity, index=user_movie_matrix.index, columns=user_movie_matrix.index)\n",
        "\n",
        "    if user not in user_similarity_df.index:\n",
        "        return \"User not found.\"\n",
        "\n",
        "    # Get the similarity scores for the specified user\n",
        "    user_similarities = user_similarity_df[user]\n",
        "\n",
        "    # Get the movies rated by the specified user\n",
        "    user_ratings = user_movie_matrix.loc[user]\n",
        "\n",
        "    # Calculate weighted sum of ratings for each movie\n",
        "    weighted_sum = np.dot(user_similarity_df[user].values, user_movie_matrix.fillna(0).values)\n",
        "\n",
        "    # Normalize by the sum of similarity scores\n",
        "    sum_of_similarities = user_similarity_df[user].sum()\n",
        "    weighted_average_ratings = weighted_sum / sum_of_similarities\n",
        "\n",
        "    # Create a DataFrame for weighted average ratings\n",
        "    weighted_ratings_df = pd.DataFrame(weighted_average_ratings, index=user_movie_matrix.columns, columns=['Weighted_Rating'])\n",
        "\n",
        "    # Filter out movies already rated by the user\n",
        "    weighted_ratings_df = weighted_ratings_df.loc[~weighted_ratings_df.index.isin(user_ratings[user_ratings > 0].index)]\n",
        "\n",
        "    # Sort by weighted rating and get top N recommendations\n",
        "    recommendations = weighted_ratings_df.sort_values(by='Weighted_Rating', ascending=False).head(num_recommendations)\n",
        "\n",
        "    return recommendations.index.tolist()\n",
        "\n",
        "def get_user_input():\n",
        "    user = input(\"Enter your user ID: \")\n",
        "    print(\"Please enter your ratings for the following movies (if you haven't watched a movie, just press Enter):\")\n",
        "\n",
        "    movies = ['Movie1', 'Movie2', 'Movie3', 'Movie4']\n",
        "    ratings = {}\n",
        "\n",
        "    for movie in movies:\n",
        "        rating = input(f\"Rating for {movie} (0-5): \")\n",
        "        if rating:\n",
        "            ratings[movie] = float(rating)\n",
        "\n",
        "    return user, ratings\n",
        "\n",
        "def chat():\n",
        "    print(\"Welcome to the movie recommendation system!\")\n",
        "    user, ratings = get_user_input()\n",
        "    add_user_ratings(user, ratings)\n",
        "\n",
        "    recommended_movies = recommend_movies(user)\n",
        "    print(f\"Recommended movies for {user}: {recommended_movies}\")\n",
        "\n",
        "# Run the chat function\n",
        "chat()"
      ],
      "metadata": {
        "colab": {
          "base_uri": "https://localhost:8080/"
        },
        "id": "wSiUOT5Gu11H",
        "outputId": "cf0fe95e-cb7e-4fc8-fdb5-e2e28e1ef29f"
      },
      "execution_count": 10,
      "outputs": [
        {
          "output_type": "stream",
          "name": "stdout",
          "text": [
            "Welcome to the movie recommendation system!\n",
            "Enter your user ID: User5\n",
            "Please enter your ratings for the following movies (if you haven't watched a movie, just press Enter):\n",
            "Rating for Movie1 (0-5): 5\n",
            "Rating for Movie2 (0-5): \n",
            "Rating for Movie3 (0-5): 2\n",
            "Rating for Movie4 (0-5): 4\n",
            "Recommended movies for User5: ['Movie2']\n"
          ]
        }
      ]
    }
  ]
}